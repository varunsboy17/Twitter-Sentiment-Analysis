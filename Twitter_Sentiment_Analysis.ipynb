{
  "nbformat": 4,
  "nbformat_minor": 0,
  "metadata": {
    "colab": {
      "name": "Twitter Sentiment Analysis.ipynb",
      "version": "0.3.2",
      "provenance": [],
      "include_colab_link": true
    },
    "kernelspec": {
      "name": "python3",
      "display_name": "Python 3"
    }
  },
  "cells": [
    {
      "cell_type": "markdown",
      "metadata": {
        "id": "view-in-github",
        "colab_type": "text"
      },
      "source": [
        "<a href=\"https://colab.research.google.com/github/varunsboy17/Twitter-Sentiment-Analysis/blob/master/Twitter_Sentiment_Analysis.ipynb\" target=\"_parent\"><img src=\"https://colab.research.google.com/assets/colab-badge.svg\" alt=\"Open In Colab\"/></a>"
      ]
    },
    {
      "cell_type": "code",
      "metadata": {
        "id": "_VCKECRb088m",
        "colab_type": "code",
        "colab": {}
      },
      "source": [
        "import pandas as pd\n",
        "from textblob import TextBlob\n",
        "import tweepy"
      ],
      "execution_count": 0,
      "outputs": []
    },
    {
      "cell_type": "code",
      "metadata": {
        "id": "jeHv5TBu2TM3",
        "colab_type": "code",
        "colab": {}
      },
      "source": [
        "consumer_key= '<<enter your consumer key from twitter developer account>>'\n",
        "consumer_secret= '<<enter your consumer secret from twitter developer account>>'\n",
        "\n",
        "access_token='<<enter your access token from twitter developer account>>'\n",
        "access_token_secret='<<enter your access token secret from twitter developer account>>'"
      ],
      "execution_count": 0,
      "outputs": []
    },
    {
      "cell_type": "code",
      "metadata": {
        "id": "F16fqKPY54-b",
        "colab_type": "code",
        "colab": {}
      },
      "source": [
        "auth = tweepy.OAuthHandler(consumer_key, consumer_secret)\n",
        "auth.set_access_token(access_token, access_token_secret)"
      ],
      "execution_count": 0,
      "outputs": []
    },
    {
      "cell_type": "code",
      "metadata": {
        "id": "4x6_Y21W6jXm",
        "colab_type": "code",
        "colab": {}
      },
      "source": [
        "api = tweepy.API(auth)\n",
        "public_tweets = api.search(\"Modi\")"
      ],
      "execution_count": 0,
      "outputs": []
    },
    {
      "cell_type": "code",
      "metadata": {
        "id": "fXDot-qN6888",
        "colab_type": "code",
        "colab": {}
      },
      "source": [
        "def find_sentiment(val):\n",
        "  if val <= 0.25 and val >= -0.25:\n",
        "    return 'Neutral'\n",
        "  elif val > 0.25:\n",
        "    return 'Positive'\n",
        "  else:\n",
        "    return 'Negative'\n",
        "      "
      ],
      "execution_count": 0,
      "outputs": []
    },
    {
      "cell_type": "code",
      "metadata": {
        "id": "wJdjMRjh7gKl",
        "colab_type": "code",
        "colab": {}
      },
      "source": [
        "data = []\n",
        "for tweet in public_tweets:\n",
        "  analysis = TextBlob(tweet.text)\n",
        "  sentiment = find_sentiment(analysis.sentiment.polarity)\n",
        "  dic = {}\n",
        "  dic['Tweet'] = tweet.text\n",
        "  dic['Sentiment'] = sentiment\n",
        "  data.append(dic)\n",
        "df = pd.DataFrame(data)"
      ],
      "execution_count": 0,
      "outputs": []
    },
    {
      "cell_type": "code",
      "metadata": {
        "id": "F_p_zeZv8LIl",
        "colab_type": "code",
        "colab": {
          "base_uri": "https://localhost:8080/",
          "height": 514
        },
        "outputId": "25dba5e9-94a1-4828-8220-40c9a3249126"
      },
      "source": [
        "df"
      ],
      "execution_count": 12,
      "outputs": [
        {
          "output_type": "execute_result",
          "data": {
            "text/html": [
              "<div>\n",
              "<style scoped>\n",
              "    .dataframe tbody tr th:only-of-type {\n",
              "        vertical-align: middle;\n",
              "    }\n",
              "\n",
              "    .dataframe tbody tr th {\n",
              "        vertical-align: top;\n",
              "    }\n",
              "\n",
              "    .dataframe thead th {\n",
              "        text-align: right;\n",
              "    }\n",
              "</style>\n",
              "<table border=\"1\" class=\"dataframe\">\n",
              "  <thead>\n",
              "    <tr style=\"text-align: right;\">\n",
              "      <th></th>\n",
              "      <th>Sentiment</th>\n",
              "      <th>Tweet</th>\n",
              "    </tr>\n",
              "  </thead>\n",
              "  <tbody>\n",
              "    <tr>\n",
              "      <th>0</th>\n",
              "      <td>Neutral</td>\n",
              "      <td>RT @snapnchat: Another Scam by the Scamster.. ...</td>\n",
              "    </tr>\n",
              "    <tr>\n",
              "      <th>1</th>\n",
              "      <td>Neutral</td>\n",
              "      <td>RT @SaketGokhale: So the BJP’s new twist is th...</td>\n",
              "    </tr>\n",
              "    <tr>\n",
              "      <th>2</th>\n",
              "      <td>Neutral</td>\n",
              "      <td>RT @LiamByrneMP: Today thousands of people mar...</td>\n",
              "    </tr>\n",
              "    <tr>\n",
              "      <th>3</th>\n",
              "      <td>Neutral</td>\n",
              "      <td>RT @i_theindian: A former political science pr...</td>\n",
              "    </tr>\n",
              "    <tr>\n",
              "      <th>4</th>\n",
              "      <td>Neutral</td>\n",
              "      <td>@aajtak @sardanarohit 😂 Moving towards 5 trill...</td>\n",
              "    </tr>\n",
              "    <tr>\n",
              "      <th>5</th>\n",
              "      <td>Neutral</td>\n",
              "      <td>RT @ImranKhanPTI: Today is the 32nd day of the...</td>\n",
              "    </tr>\n",
              "    <tr>\n",
              "      <th>6</th>\n",
              "      <td>Neutral</td>\n",
              "      <td>RT @OsamaSultanPk02: Modi regime has increased...</td>\n",
              "    </tr>\n",
              "    <tr>\n",
              "      <th>7</th>\n",
              "      <td>Neutral</td>\n",
              "      <td>@rsswala50 @KapilMishra_IND Baki sab BJP kutta</td>\n",
              "    </tr>\n",
              "    <tr>\n",
              "      <th>8</th>\n",
              "      <td>Neutral</td>\n",
              "      <td>RT @Raajeev_romi: A separate sofa was kept for...</td>\n",
              "    </tr>\n",
              "    <tr>\n",
              "      <th>9</th>\n",
              "      <td>Neutral</td>\n",
              "      <td>RT @DrAMSinghvi: It is beyond my understanding...</td>\n",
              "    </tr>\n",
              "    <tr>\n",
              "      <th>10</th>\n",
              "      <td>Neutral</td>\n",
              "      <td>RT @cjwerleman: India's economy is crashing un...</td>\n",
              "    </tr>\n",
              "    <tr>\n",
              "      <th>11</th>\n",
              "      <td>Neutral</td>\n",
              "      <td>RT @OpIndia_in: \"पीएम मोदी ने मलेशिया के प्रधा...</td>\n",
              "    </tr>\n",
              "    <tr>\n",
              "      <th>12</th>\n",
              "      <td>Neutral</td>\n",
              "      <td>@Inderjeet38 @yadavakhilesh Narendra Modi was ...</td>\n",
              "    </tr>\n",
              "    <tr>\n",
              "      <th>13</th>\n",
              "      <td>Neutral</td>\n",
              "      <td>RT @AnayaBurki: Modi is doing Genocide of Kash...</td>\n",
              "    </tr>\n",
              "    <tr>\n",
              "      <th>14</th>\n",
              "      <td>Neutral</td>\n",
              "      <td>RT @moronhumor: Chidambaram ka 5% GDP to Balle...</td>\n",
              "    </tr>\n",
              "  </tbody>\n",
              "</table>\n",
              "</div>"
            ],
            "text/plain": [
              "   Sentiment                                              Tweet\n",
              "0    Neutral  RT @snapnchat: Another Scam by the Scamster.. ...\n",
              "1    Neutral  RT @SaketGokhale: So the BJP’s new twist is th...\n",
              "2    Neutral  RT @LiamByrneMP: Today thousands of people mar...\n",
              "3    Neutral  RT @i_theindian: A former political science pr...\n",
              "4    Neutral  @aajtak @sardanarohit 😂 Moving towards 5 trill...\n",
              "5    Neutral  RT @ImranKhanPTI: Today is the 32nd day of the...\n",
              "6    Neutral  RT @OsamaSultanPk02: Modi regime has increased...\n",
              "7    Neutral     @rsswala50 @KapilMishra_IND Baki sab BJP kutta\n",
              "8    Neutral  RT @Raajeev_romi: A separate sofa was kept for...\n",
              "9    Neutral  RT @DrAMSinghvi: It is beyond my understanding...\n",
              "10   Neutral  RT @cjwerleman: India's economy is crashing un...\n",
              "11   Neutral  RT @OpIndia_in: \"पीएम मोदी ने मलेशिया के प्रधा...\n",
              "12   Neutral  @Inderjeet38 @yadavakhilesh Narendra Modi was ...\n",
              "13   Neutral  RT @AnayaBurki: Modi is doing Genocide of Kash...\n",
              "14   Neutral  RT @moronhumor: Chidambaram ka 5% GDP to Balle..."
            ]
          },
          "metadata": {
            "tags": []
          },
          "execution_count": 12
        }
      ]
    },
    {
      "cell_type": "code",
      "metadata": {
        "id": "wBvceUHL8bDc",
        "colab_type": "code",
        "colab": {}
      },
      "source": [
        "df.to_csv('out.csv')"
      ],
      "execution_count": 0,
      "outputs": []
    },
    {
      "cell_type": "code",
      "metadata": {
        "id": "B00xBt9a8hRx",
        "colab_type": "code",
        "colab": {
          "base_uri": "https://localhost:8080/",
          "height": 34
        },
        "outputId": "fa8b8ff7-8dfb-411c-a757-90125205ccd1"
      },
      "source": [
        "print(df.iloc[2].Tweet)"
      ],
      "execution_count": 15,
      "outputs": [
        {
          "output_type": "stream",
          "text": [
            "RT @LiamByrneMP: Today thousands of people marched from Downing Street to the Indian High Commission to send a clear message to Mr Modi - y…\n"
          ],
          "name": "stdout"
        }
      ]
    }
  ]
}
